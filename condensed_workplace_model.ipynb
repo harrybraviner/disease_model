{
 "cells": [
  {
   "cell_type": "code",
   "execution_count": null,
   "metadata": {},
   "outputs": [],
   "source": [
    "import numpy as np\n",
    "import matplotlib.pyplot as plt\n",
    "rng = np.random.RandomState(1234)"
   ]
  },
  {
   "cell_type": "code",
   "execution_count": null,
   "metadata": {},
   "outputs": [],
   "source": [
    "N_pop = int(1e5)  # Population size\n",
    "N_work = 100      # Number of people in a workplace\n",
    "N_home = 2        # Number of people in a home\n",
    "\n",
    "# Betas. i.e. probability of infection from a single infectious person is \n",
    "beta_work = 0.1     # Daily probability of infection if sharing workplace\n",
    "beta_home = 0.2     # Daily probability of infection if sharing home\n",
    "beta_street = 0.01  # Random contact on the street, transport, etc.\n",
    "\n",
    "# Work condensation parameters\n",
    "lambda_work = 1   # Enhanced probability of infecting individuals to either side of you\n",
    "condensation_work = 0.0 # Degree of additional infection probability for 'close' colleagues.\n",
    "                        # Should lie in [0, 1). \n",
    "\n",
    "# If this is True, symptomatic individuals no longer go to work\n",
    "symptomatics_stay_off_work = False\n",
    "\n",
    "# Probability that an infected person recovers after i days of infection.\n",
    "# These numbers are completely made up.\n",
    "p_recover = np.array(([0.0] * 3) + ([0.1] * 6) + ([0.2] * 3) + ([0.3]*6) + [1.0])\n",
    "# Probability that someone becomes symptomatic after i days of infection.\n",
    "# Also completely made up.\n",
    "p_symptomatic = np.array(([0.0] * 3) + ([0.05] * 6) + ([0.1] * 3) + ([0.2]*6) + [0.2])"
   ]
  },
  {
   "cell_type": "code",
   "execution_count": null,
   "metadata": {},
   "outputs": [],
   "source": [
    "# Static state of the population\n",
    "v_work = np.arange(N_pop) // N_work  # Index of workplace\n",
    "v_home = np.arange(N_pop) // N_home  # Index of home\n",
    "rng.shuffle(v_home)                  # Make workplace and home independent"
   ]
  },
  {
   "cell_type": "code",
   "execution_count": null,
   "metadata": {},
   "outputs": [],
   "source": [
    "# This is more work than needs to be done for constant-size workplaces\n",
    "# But it is intended to also cover the case of non-constant sizes.\n",
    "size_cache = {}\n",
    "def get_workplace_matrix(workplace_size):\n",
    "    \"\"\"\n",
    "    Let W[i, j] be the probability of j infecting i on one day.\n",
    "    The what we actually compute here is a matrix of log(1 - W[i, j])\n",
    "    \"\"\"\n",
    "    if workplace_size in size_cache:\n",
    "        return size_cache[workplace_size]\n",
    "    else:\n",
    "        b = condensation_work * beta_work / (2 * lambda_work)\n",
    "        a = (beta_work - 2*lambda_work*b) / (workplace_size - 1)\n",
    "        w_mat = np.zeros(shape=(size_this_workplace, size_this_workplace))\n",
    "        for i in range(size_this_workplace):\n",
    "            for j in range(size_this_workplace):\n",
    "                if i != j and np.abs(i - j) <= lambda_work:\n",
    "                    w_mat[i, j] = a + b\n",
    "                elif i != j:\n",
    "                    w_mat[i, j] = a\n",
    "        size_cache[workplace_size] = np.log(1.0 - w_mat)\n",
    "        return np.log(1.0 - w_mat)\n",
    "\n",
    "# Set workplace matrices\n",
    "w_set = set(v_work)\n",
    "workplace_sizes = np.bincount(v_work)\n",
    "\n",
    "w_log_matrix_list = [None]*len(w_set)\n",
    "for w in w_set:\n",
    "    size_this_workplace = workplace_sizes[w]\n",
    "    w_log_matrix_list[w] = get_workplace_matrix(size_this_workplace)"
   ]
  },
  {
   "cell_type": "code",
   "execution_count": null,
   "metadata": {},
   "outputs": [],
   "source": [
    "# For each individual, get their index *within* the workplace.\n",
    "# These are needed to compute the infection probabilities using the w matrices.\n",
    "v_w_idx = np.zeros_like(v_work)\n",
    "for w in w_set:\n",
    "    size_this_workplace = workplace_sizes[w]\n",
    "    v_w_idx[v_work == w] = np.arange(size_this_workplace)"
   ]
  },
  {
   "cell_type": "code",
   "execution_count": null,
   "metadata": {},
   "outputs": [],
   "source": [
    "# Initial state of the population - no-one is infected\n",
    "v_susceptible = np.full(shape=(N_pop,), fill_value=True)\n",
    "v_infected = np.full(shape=(N_pop,), fill_value=False)\n",
    "v_symptomatic = np.full(shape=(N_pop,), fill_value=False)\n",
    "v_days_infected = np.full(shape=(N_pop,), fill_value=0)"
   ]
  },
  {
   "cell_type": "code",
   "execution_count": null,
   "metadata": {},
   "outputs": [],
   "source": [
    "def stochastic_update():\n",
    "    # Compute the probability of a susceptible getting infected by various routes\n",
    "    \n",
    "    # Workplace infection probability is the most complicated due to inhomogeneous workplaces\n",
    "    # For each individual, compute their probability of being infected at work\n",
    "    v_p_work = np.zeros_like(v_work, dtype=np.float32)\n",
    "    for w in w_set:\n",
    "        w_log_mat = w_log_matrix_list[w]\n",
    "        # Compute log(1 - p_i) where i ranges over workers in this workplace\n",
    "        if not symptomatics_stay_off_work:\n",
    "            log_one_minus_p = np.matmul(w_log_mat, v_infected[v_work == w])\n",
    "        else:\n",
    "            log_one_minus_p = np.matmul(w_log_mat, v_infected[v_work == w] & ~v_symptomatic[v_work == w])\n",
    "        p = 1.0 - np.exp(log_one_minus_p)\n",
    "        v_p_work[v_work == w] = p\n",
    "        \n",
    "    # For each home, compute the infection probability\n",
    "    h_infected = np.bincount(v_home[v_infected], minlength=np.max(v_home) + 1)\n",
    "    p_home = 1.0 - np.power(1.0 - beta_home / N_home, h_infected)\n",
    "    # Compute the probability of being infected in the street\n",
    "    total_infected = np.sum(v_infected)\n",
    "    p_street = 1.0 - np.power(1.0 - beta_street / N_pop, total_infected)\n",
    "    \n",
    "    # Infection probability for individuals\n",
    "    v_p = 1.0 - (1.0 - v_p_work) * (1.0 - p_home[v_home]) * (1.0 - p_street)\n",
    "    # Sample new infections\n",
    "    new_infection = (rng.binomial(1, p=v_p) == 1)\n",
    "    v_infected[v_susceptible] = new_infection[v_susceptible]\n",
    "    v_susceptible[v_susceptible] = ~new_infection[v_susceptible]\n",
    "    \n",
    "    # Compute probability of infected individuals recovering\n",
    "    v_p = p_recover[v_days_infected]\n",
    "    # Sample recoveries\n",
    "    new_recoveries = (rng.binomial(1, p=v_p) == 1)\n",
    "    v_infected[v_infected] = ~new_recoveries[v_infected]\n",
    "    # Recovered individuals also lose symptoms\n",
    "    v_symptomatic[v_symptomatic] = ~new_recoveries[v_symptomatic]\n",
    "    \n",
    "    # Compute probabilities of infected individuals becoming symptomatic\n",
    "    v_p = p_symptomatic[v_days_infected]\n",
    "    # Sample becoming symptomatic\n",
    "    new_symptoms = (rng.binomial(1, p=v_p) == 1)\n",
    "    v_symptomatic[v_infected & ~v_symptomatic] = new_symptoms[v_infected & ~v_symptomatic]\n",
    "    \n",
    "    # Increment days infected\n",
    "    v_days_infected[v_infected] += 1"
   ]
  },
  {
   "cell_type": "code",
   "execution_count": null,
   "metadata": {},
   "outputs": [],
   "source": [
    "# Randomly infect a tiny number of people\n",
    "initial_infections = rng.choice(N_pop, size=4)\n",
    "v_infected[initial_infections] = True\n",
    "v_susceptible[initial_infections] = False"
   ]
  },
  {
   "cell_type": "code",
   "execution_count": null,
   "metadata": {},
   "outputs": [],
   "source": [
    "susceptible_vs_t = []\n",
    "infected_vs_t = []\n",
    "symptomatic_vs_t = []\n",
    "recovered_vs_t = []\n",
    "\n",
    "for t in range(500):\n",
    "    susceptible_count = np.sum(v_susceptible)\n",
    "    infected_count = np.sum(v_infected)\n",
    "    symptomatic_count = np.sum(v_symptomatic)\n",
    "    recovered_count = N_pop - susceptible_count - infected_count\n",
    "    susceptible_vs_t.append(susceptible_count)\n",
    "    infected_vs_t.append(infected_count)\n",
    "    symptomatic_vs_t.append(symptomatic_count)\n",
    "    recovered_vs_t.append(recovered_count)\n",
    "\n",
    "    stochastic_update()"
   ]
  },
  {
   "cell_type": "code",
   "execution_count": null,
   "metadata": {},
   "outputs": [],
   "source": [
    "# Plot the history of the epidemic\n",
    "fig, ax = plt.subplots(figsize=(13, 8))\n",
    "ax.plot(infected_vs_t, 'b-', label='All infections')\n",
    "ax.plot(symptomatic_vs_t, 'r--', label='Symptomatic')\n",
    "ax.set_xlabel('Time [days]')\n",
    "ax.set_ylabel('Infected population')\n",
    "plt.show(fig)"
   ]
  }
 ],
 "metadata": {
  "kernelspec": {
   "display_name": "Python 3",
   "language": "python",
   "name": "python3"
  },
  "language_info": {
   "codemirror_mode": {
    "name": "ipython",
    "version": 3
   },
   "file_extension": ".py",
   "mimetype": "text/x-python",
   "name": "python",
   "nbconvert_exporter": "python",
   "pygments_lexer": "ipython3",
   "version": "3.7.3"
  }
 },
 "nbformat": 4,
 "nbformat_minor": 2
}
