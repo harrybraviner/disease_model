{
 "cells": [
  {
   "cell_type": "code",
   "execution_count": null,
   "metadata": {},
   "outputs": [],
   "source": [
    "import numpy as np\n",
    "import matplotlib.pyplot as plt\n",
    "rng = np.random.RandomState(1234)"
   ]
  },
  {
   "cell_type": "code",
   "execution_count": null,
   "metadata": {},
   "outputs": [],
   "source": [
    "N_pop = int(1e5)  # Population size\n",
    "N_work = 100      # Number of people in a workplace\n",
    "N_home = 2        # Number of people in a home\n",
    "\n",
    "# Betas. i.e. probability of infection from a single infectious person is \n",
    "beta_work = 0.1     # Daily probability of infection if sharing workplace\n",
    "beta_home = 0.2     # Daily probability of infection if sharing home\n",
    "beta_street = 0.01  # Random contact on the street, transport, etc.\n",
    "\n",
    "# Probability that an infected person recovers after i days of infection.\n",
    "# These numbers are completely made up.\n",
    "p_recover = np.array(([0.0] * 3) + ([0.1] * 6) + ([0.2] * 3) + ([0.3]*6) + [1.0])\n",
    "# Probability that someone becomes symptomatic after i days of infection.\n",
    "# Also completely made up.\n",
    "p_symptomatic = np.array(([0.0] * 3) + ([0.05] * 6) + ([0.1] * 3) + ([0.2]*6) + [0.2])"
   ]
  },
  {
   "cell_type": "code",
   "execution_count": null,
   "metadata": {},
   "outputs": [],
   "source": [
    "# Static state of the population\n",
    "v_work = np.arange(N_pop) // N_work  # Index of workplace\n",
    "v_home = np.arange(N_pop) // N_home  # Index of home\n",
    "rng.shuffle(v_home)                  # Make workplace and home independent"
   ]
  },
  {
   "cell_type": "code",
   "execution_count": null,
   "metadata": {},
   "outputs": [],
   "source": [
    "# Initial state of the population - no-one is infected\n",
    "v_susceptible = np.full(shape=(N_pop,), fill_value=True)\n",
    "v_infected = np.full(shape=(N_pop,), fill_value=False)\n",
    "v_symptomatic = np.full(shape=(N_pop,), fill_value=False)\n",
    "v_days_infected = np.full(shape=(N_pop,), fill_value=0)"
   ]
  },
  {
   "cell_type": "code",
   "execution_count": null,
   "metadata": {},
   "outputs": [],
   "source": [
    "def stochastic_update():\n",
    "    # Compute the number of infected in each workplace and home\n",
    "    w_infected = np.bincount(v_work[v_infected], minlength=np.max(v_work) + 1)\n",
    "    h_infected = np.bincount(v_home[v_infected], minlength=np.max(v_home) + 1)\n",
    "    total_infected = np.sum(v_infected)\n",
    "    \n",
    "    # Compute the probability of a susceptible getting infected by various routes\n",
    "    p_work = 1.0 - np.power(1.0 - beta_work / N_work, w_infected)\n",
    "    p_home = 1.0 - np.power(1.0 - beta_home / N_home, h_infected)\n",
    "    p_street = 1.0 - np.power(1.0 - beta_street / N_pop, total_infected)\n",
    "    \n",
    "    # Infection probability for individuals\n",
    "    v_p = 1.0 - (1.0 - p_work[v_work]) * (1.0 - p_home[v_home]) * (1.0 - p_street)\n",
    "    # Sample new infections\n",
    "    new_infection = (rng.binomial(1, p=v_p) == 1)\n",
    "    v_infected[v_susceptible] = new_infection[v_susceptible]\n",
    "    v_susceptible[v_susceptible] = ~new_infection[v_susceptible]\n",
    "    \n",
    "    # Compute probability of infected individuals recovering\n",
    "    v_p = p_recover[v_days_infected]\n",
    "    # Sample recoveries\n",
    "    new_recoveries = (rng.binomial(1, p=v_p) == 1)\n",
    "    v_infected[v_infected] = ~new_recoveries[v_infected]\n",
    "    # Recovered individuals also lose symptoms\n",
    "    v_symptomatic[v_symptomatic] = ~new_recoveries[v_symptomatic]\n",
    "    \n",
    "    # Compute probabilities of infected individuals becoming symptomatic\n",
    "    v_p = p_symptomatic[v_days_infected]\n",
    "    # Sample becoming symptomatic\n",
    "    new_symptoms = (rng.binomial(1, p=v_p) == 1)\n",
    "    v_symptomatic[v_infected & ~v_symptomatic] = new_symptoms[v_infected & ~v_symptomatic]\n",
    "    \n",
    "    # Increment days infected\n",
    "    v_days_infected[v_infected] += 1"
   ]
  },
  {
   "cell_type": "code",
   "execution_count": null,
   "metadata": {},
   "outputs": [],
   "source": [
    "# Randomly infect a tiny number of people\n",
    "initial_infections = rng.choice(N_pop, size=4)\n",
    "v_infected[initial_infections] = True"
   ]
  },
  {
   "cell_type": "code",
   "execution_count": null,
   "metadata": {},
   "outputs": [],
   "source": [
    "susceptible_vs_t = []\n",
    "infected_vs_t = []\n",
    "symptomatic_vs_t = []\n",
    "recovered_vs_t = []\n",
    "\n",
    "for t in range(500):\n",
    "    susceptible_count = np.sum(v_susceptible)\n",
    "    infected_count = np.sum(v_infected)\n",
    "    symptomatic_count = np.sum(v_symptomatic)\n",
    "    recovered_count = N_pop - susceptible_count - infected_count\n",
    "    susceptible_vs_t.append(susceptible_count)\n",
    "    infected_vs_t.append(infected_count)\n",
    "    symptomatic_vs_t.append(symptomatic_count)\n",
    "    recovered_vs_t.append(recovered_count)\n",
    "\n",
    "    stochastic_update()"
   ]
  },
  {
   "cell_type": "code",
   "execution_count": null,
   "metadata": {},
   "outputs": [],
   "source": [
    "# Plot the history of the epidemic\n",
    "fig, ax = plt.subplots(figsize=(13, 8))\n",
    "ax.plot(infected_vs_t, 'b-', label='All infections')\n",
    "ax.plot(symptomatic_vs_t, 'r--', label='Symptomatic')\n",
    "ax.set_xlabel('Time [days]')\n",
    "ax.set_ylabel('Infected population')\n",
    "plt.show(fig)"
   ]
  }
 ],
 "metadata": {
  "kernelspec": {
   "display_name": "Python 3",
   "language": "python",
   "name": "python3"
  },
  "language_info": {
   "codemirror_mode": {
    "name": "ipython",
    "version": 3
   },
   "file_extension": ".py",
   "mimetype": "text/x-python",
   "name": "python",
   "nbconvert_exporter": "python",
   "pygments_lexer": "ipython3",
   "version": "3.7.4"
  }
 },
 "nbformat": 4,
 "nbformat_minor": 2
}
