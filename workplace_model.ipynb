{
 "cells": [
  {
   "cell_type": "code",
   "execution_count": 15,
   "metadata": {},
   "outputs": [],
   "source": [
    "import numpy as np\n",
    "import matplotlib.pyplot as plt\n",
    "rng = np.random.RandomState(1234)"
   ]
  },
  {
   "cell_type": "code",
   "execution_count": 16,
   "metadata": {},
   "outputs": [],
   "source": [
    "N_pop = int(1e5)  # Population size\n",
    "N_work = 100      # Number of people in a workplace\n",
    "N_home = 2        # Number of people in a home"
   ]
  },
  {
   "cell_type": "code",
   "execution_count": 17,
   "metadata": {},
   "outputs": [],
   "source": [
    "# Static state of the population\n",
    "v_workplace = np.arange(N_pop) // N_work  # Index of workplace\n",
    "v_home = np.arange(N_pop) // N_home       # Index of home\n",
    "rng.shuffle(v_home)                       # Make workplace and home independent"
   ]
  },
  {
   "cell_type": "code",
   "execution_count": 5,
   "metadata": {},
   "outputs": [],
   "source": [
    "# Initial state of the population - no-one is infected\n",
    "v_susceptible = np.full(shape=(N_pop,), fill_value=1, dtype=np.float32)\n",
    "v_infected = np.full(shape=(N_pop,), fill_value=0, dtype=np.float32)\n",
    "v_days_infected = np.full(shape=(N_pop,), fill_value=0, dtype=np.float32)"
   ]
  }
 ],
 "metadata": {
  "kernelspec": {
   "display_name": "Python 3",
   "language": "python",
   "name": "python3"
  },
  "language_info": {
   "codemirror_mode": {
    "name": "ipython",
    "version": 3
   },
   "file_extension": ".py",
   "mimetype": "text/x-python",
   "name": "python",
   "nbconvert_exporter": "python",
   "pygments_lexer": "ipython3",
   "version": "3.7.4"
  }
 },
 "nbformat": 4,
 "nbformat_minor": 2
}
